{
 "cells": [
  {
   "cell_type": "code",
   "execution_count": 32,
   "id": "e9266fa0-2f7e-41c8-a037-663bf2ba9be8",
   "metadata": {},
   "outputs": [],
   "source": [
    "import numpy as np\n",
    "import matplotlib.pyplot as plt\n",
    "from scipy.integrate import solve_ivp\n",
    "import pandas as pd\n",
    "from scipy.optimize import curve_fit\n",
    "from scipy.optimize import LinearConstraint\n",
    "from datetime import datetime\n",
    "import numpy.typing as npt\n",
    "from scipy.optimize import minimize\n",
    "import numpy.typing as npt\n",
    "\n",
    "import re"
   ]
  },
  {
   "cell_type": "code",
   "execution_count": 2,
   "id": "2e6689f6-f9b4-47ea-b667-16fdef1e370f",
   "metadata": {},
   "outputs": [],
   "source": [
    "from SEIRD_model_files import SEIRD_model \n",
    "from SEIRD_model_files import SEIRD_fitting"
   ]
  },
  {
   "cell_type": "code",
   "execution_count": 50,
   "id": "48f1c7e9-ed0e-4c65-b7a7-7da3ddb53fba",
   "metadata": {},
   "outputs": [],
   "source": [
    "my_basin_params = []\n",
    "my_fun_minima   = []"
   ]
  },
  {
   "cell_type": "code",
   "execution_count": 53,
   "id": "537317df-a268-4684-bfbf-66c6dc1f880c",
   "metadata": {},
   "outputs": [],
   "source": [
    "\n",
    "with open('case_fatality_minima_Frost_2.txt','r') as f:\n",
    "    for line in f.readlines():\n",
    "        my_basin_params += [eval(re.sub(r'\\s+', ',', line.split(',')[0]))]\n",
    "        my_fun_minima   += [float(line.split(',')[1])]\n",
    "my_basin_params = np.array(my_basin_params)\n",
    "my_fun_minima   = np.array(my_fun_minima)\n",
    "        #my_basins += [(x for x in line.split(','))]"
   ]
  },
  {
   "cell_type": "code",
   "execution_count": 60,
   "id": "dce7cfac-c973-445b-b916-7eb6cee931ec",
   "metadata": {},
   "outputs": [
    {
     "data": {
      "text/plain": [
       "<matplotlib.collections.PathCollection at 0x7f1337a42ad0>"
      ]
     },
     "execution_count": 60,
     "metadata": {},
     "output_type": "execute_result"
    },
    {
     "data": {
      "image/png": "[encoded data removed]",
      "text/plain": [
       "<Figure size 640x480 with 1 Axes>"
      ]
     },
     "metadata": {},
     "output_type": "display_data"
    }
   ],
   "source": [
    "plt.scatter(my_basin_params[:,5], my_fun_minima)"
   ]
  },
  {
   "cell_type": "code",
   "execution_count": 59,
   "id": "35b5f29e-537f-4514-a6fd-7822b9ac7838",
   "metadata": {},
   "outputs": [
    {
     "ename": "ModuleNotFoundError",
     "evalue": "No module named 'sklearn'",
     "output_type": "error",
     "traceback": [
      "\u001b[31m---------------------------------------------------------------------------\u001b[39m",
      "\u001b[31mModuleNotFoundError\u001b[39m                       Traceback (most recent call last)",
      "\u001b[36mCell\u001b[39m\u001b[36m \u001b[39m\u001b[32mIn[59]\u001b[39m\u001b[32m, line 1\u001b[39m\n\u001b[32m----> \u001b[39m\u001b[32m1\u001b[39m \u001b[38;5;28;01mfrom\u001b[39;00m\u001b[38;5;250m \u001b[39m\u001b[34;01msklearn\u001b[39;00m\u001b[34;01m.\u001b[39;00m\u001b[34;01mpreprocessing\u001b[39;00m\u001b[38;5;250m \u001b[39m\u001b[38;5;28;01mimport\u001b[39;00m StandardScaler\n\u001b[32m      2\u001b[39m \u001b[38;5;28;01mfrom\u001b[39;00m\u001b[38;5;250m \u001b[39m\u001b[34;01msklearn\u001b[39;00m\u001b[34;01m.\u001b[39;00m\u001b[34;01mdecomposition\u001b[39;00m\u001b[38;5;250m \u001b[39m\u001b[38;5;28;01mimport\u001b[39;00m PCA\n",
      "\u001b[31mModuleNotFoundError\u001b[39m: No module named 'sklearn'"
     ]
    }
   ],
   "source": [
    "from sklearn.preprocessing import StandardScaler\n",
    "from sklearn.decomposition import PCA"
   ]
  },
  {
   "cell_type": "code",
   "execution_count": null,
   "id": "4cb0c34d-8318-4584-97e1-100172620a57",
   "metadata": {},
   "outputs": [],
   "source": []
  }
 ],
 "metadata": {
  "kernelspec": {
   "display_name": "Python 3 (ipykernel)",
   "language": "python",
   "name": "python3"
  },
  "language_info": {
   "codemirror_mode": {
    "name": "ipython",
    "version": 3
   },
   "file_extension": ".py",
   "mimetype": "text/x-python",
   "name": "python",
   "nbconvert_exporter": "python",
   "pygments_lexer": "ipython3",
   "version": "3.13.5"
  }
 },
 "nbformat": 4,
 "nbformat_minor": 5
}
